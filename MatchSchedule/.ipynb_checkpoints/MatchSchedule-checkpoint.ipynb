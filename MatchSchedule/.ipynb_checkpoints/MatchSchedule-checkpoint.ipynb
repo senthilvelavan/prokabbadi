{
 "cells": [
  {
   "cell_type": "code",
   "execution_count": 1,
   "metadata": {},
   "outputs": [],
   "source": [
    "import pandas as pd\n",
    "import numpy as np"
   ]
  },
  {
   "cell_type": "code",
   "execution_count": 4,
   "metadata": {},
   "outputs": [],
   "source": [
    "from selenium import webdriver\n",
    "from selenium.webdriver.support.ui import WebDriverWait\n",
    "from selenium.webdriver.support.ui import Select"
   ]
  },
  {
   "cell_type": "code",
   "execution_count": 5,
   "metadata": {},
   "outputs": [],
   "source": [
    "from bs4 import BeautifulSoup"
   ]
  },
  {
   "cell_type": "code",
   "execution_count": 25,
   "metadata": {},
   "outputs": [
    {
     "ename": "NameError",
     "evalue": "name 'traceback' is not defined",
     "output_type": "error",
     "traceback": [
      "\u001b[1;31m---------------------------------------------------------------------------\u001b[0m",
      "\u001b[1;31mNoSuchElementException\u001b[0m                    Traceback (most recent call last)",
      "\u001b[1;32m<ipython-input-25-7a8473c8647d>\u001b[0m in \u001b[0;36m<module>\u001b[1;34m()\u001b[0m\n\u001b[0;32m     14\u001b[0m \u001b[1;33m\u001b[0m\u001b[0m\n\u001b[1;32m---> 15\u001b[1;33m     \u001b[0melement_season\u001b[0m \u001b[1;33m=\u001b[0m \u001b[0mdriver\u001b[0m\u001b[1;33m.\u001b[0m\u001b[0mfind_element_by_class_name\u001b[0m\u001b[1;33m(\u001b[0m\u001b[1;34m\"si-selectBox si-season-change\"\u001b[0m\u001b[1;33m)\u001b[0m\u001b[1;33m\u001b[0m\u001b[0m\n\u001b[0m\u001b[0;32m     16\u001b[0m \u001b[1;33m\u001b[0m\u001b[0m\n",
      "\u001b[1;32m~\\AIML\\Anaconda3\\lib\\site-packages\\selenium\\webdriver\\remote\\webdriver.py\u001b[0m in \u001b[0;36mfind_element_by_class_name\u001b[1;34m(self, name)\u001b[0m\n\u001b[0;32m    563\u001b[0m         \"\"\"\n\u001b[1;32m--> 564\u001b[1;33m         \u001b[1;32mreturn\u001b[0m \u001b[0mself\u001b[0m\u001b[1;33m.\u001b[0m\u001b[0mfind_element\u001b[0m\u001b[1;33m(\u001b[0m\u001b[0mby\u001b[0m\u001b[1;33m=\u001b[0m\u001b[0mBy\u001b[0m\u001b[1;33m.\u001b[0m\u001b[0mCLASS_NAME\u001b[0m\u001b[1;33m,\u001b[0m \u001b[0mvalue\u001b[0m\u001b[1;33m=\u001b[0m\u001b[0mname\u001b[0m\u001b[1;33m)\u001b[0m\u001b[1;33m\u001b[0m\u001b[0m\n\u001b[0m\u001b[0;32m    565\u001b[0m \u001b[1;33m\u001b[0m\u001b[0m\n",
      "\u001b[1;32m~\\AIML\\Anaconda3\\lib\\site-packages\\selenium\\webdriver\\remote\\webdriver.py\u001b[0m in \u001b[0;36mfind_element\u001b[1;34m(self, by, value)\u001b[0m\n\u001b[0;32m    977\u001b[0m             \u001b[1;34m'using'\u001b[0m\u001b[1;33m:\u001b[0m \u001b[0mby\u001b[0m\u001b[1;33m,\u001b[0m\u001b[1;33m\u001b[0m\u001b[0m\n\u001b[1;32m--> 978\u001b[1;33m             'value': value})['value']\n\u001b[0m\u001b[0;32m    979\u001b[0m \u001b[1;33m\u001b[0m\u001b[0m\n",
      "\u001b[1;32m~\\AIML\\Anaconda3\\lib\\site-packages\\selenium\\webdriver\\remote\\webdriver.py\u001b[0m in \u001b[0;36mexecute\u001b[1;34m(self, driver_command, params)\u001b[0m\n\u001b[0;32m    320\u001b[0m         \u001b[1;32mif\u001b[0m \u001b[0mresponse\u001b[0m\u001b[1;33m:\u001b[0m\u001b[1;33m\u001b[0m\u001b[0m\n\u001b[1;32m--> 321\u001b[1;33m             \u001b[0mself\u001b[0m\u001b[1;33m.\u001b[0m\u001b[0merror_handler\u001b[0m\u001b[1;33m.\u001b[0m\u001b[0mcheck_response\u001b[0m\u001b[1;33m(\u001b[0m\u001b[0mresponse\u001b[0m\u001b[1;33m)\u001b[0m\u001b[1;33m\u001b[0m\u001b[0m\n\u001b[0m\u001b[0;32m    322\u001b[0m             response['value'] = self._unwrap_value(\n",
      "\u001b[1;32m~\\AIML\\Anaconda3\\lib\\site-packages\\selenium\\webdriver\\remote\\errorhandler.py\u001b[0m in \u001b[0;36mcheck_response\u001b[1;34m(self, response)\u001b[0m\n\u001b[0;32m    241\u001b[0m             \u001b[1;32mraise\u001b[0m \u001b[0mexception_class\u001b[0m\u001b[1;33m(\u001b[0m\u001b[0mmessage\u001b[0m\u001b[1;33m,\u001b[0m \u001b[0mscreen\u001b[0m\u001b[1;33m,\u001b[0m \u001b[0mstacktrace\u001b[0m\u001b[1;33m,\u001b[0m \u001b[0malert_text\u001b[0m\u001b[1;33m)\u001b[0m\u001b[1;33m\u001b[0m\u001b[0m\n\u001b[1;32m--> 242\u001b[1;33m         \u001b[1;32mraise\u001b[0m \u001b[0mexception_class\u001b[0m\u001b[1;33m(\u001b[0m\u001b[0mmessage\u001b[0m\u001b[1;33m,\u001b[0m \u001b[0mscreen\u001b[0m\u001b[1;33m,\u001b[0m \u001b[0mstacktrace\u001b[0m\u001b[1;33m)\u001b[0m\u001b[1;33m\u001b[0m\u001b[0m\n\u001b[0m\u001b[0;32m    243\u001b[0m \u001b[1;33m\u001b[0m\u001b[0m\n",
      "\u001b[1;31mNoSuchElementException\u001b[0m: Message: no such element: Unable to locate element: {\"method\":\"css selector\",\"selector\":\".si-selectBox si-season-change\"}\n  (Session info: chrome=77.0.3865.90)\n",
      "\nDuring handling of the above exception, another exception occurred:\n",
      "\u001b[1;31mNameError\u001b[0m                                 Traceback (most recent call last)",
      "\u001b[1;32m<ipython-input-25-7a8473c8647d>\u001b[0m in \u001b[0;36m<module>\u001b[1;34m()\u001b[0m\n\u001b[0;32m     68\u001b[0m \u001b[1;33m\u001b[0m\u001b[0m\n\u001b[0;32m     69\u001b[0m \u001b[1;32mexcept\u001b[0m\u001b[1;33m:\u001b[0m\u001b[1;33m\u001b[0m\u001b[0m\n\u001b[1;32m---> 70\u001b[1;33m     \u001b[0mprint\u001b[0m\u001b[1;33m(\u001b[0m\u001b[0mtraceback\u001b[0m\u001b[1;33m.\u001b[0m\u001b[0mformat_exc\u001b[0m\u001b[1;33m(\u001b[0m\u001b[1;33m)\u001b[0m\u001b[1;33m)\u001b[0m\u001b[1;33m\u001b[0m\u001b[0m\n\u001b[0m\u001b[0;32m     71\u001b[0m     \u001b[0mdriver\u001b[0m\u001b[1;33m.\u001b[0m\u001b[0mclose\u001b[0m\u001b[1;33m(\u001b[0m\u001b[1;33m)\u001b[0m\u001b[1;33m\u001b[0m\u001b[0m\n",
      "\u001b[1;31mNameError\u001b[0m: name 'traceback' is not defined"
     ]
    }
   ],
   "source": [
    "driver = webdriver.Chrome('D:\\BITS\\Prokabbadi\\chromedriver_win32\\chromedriver.exe')\n",
    "try:\n",
    "    driver.get(\"https://www.prokabaddi.com/schedule-fixtures-results\")\n",
    "    import time\n",
    "    time.sleep(2)\n",
    "    soup = BeautifulSoup(driver.page_source,\"lxml\")\n",
    "    \n",
    "    #driver.find_element\n",
    "    \n",
    "    '''month_element = driver.find_element_by_class_name(\"si-selectBox si-months-change\")\n",
    "    months = []\n",
    "    month_options = [x for x in month_element.find_elements_by_tag_name(\"option\")] \n",
    "    for option in month_options:\n",
    "            months.append(option.get_attribute(\"value\"))\n",
    "    print(months)'''\n",
    "    \n",
    "    element_season = driver.find_elements_by_class_name(\"si-selectBox si-season-change\")\n",
    "        \n",
    "    seasons = []\n",
    "    season_options = [x for x in element_season.find_elements_by_tag_name(\"option\")] \n",
    "    for option in season_options:\n",
    "            seasons.append(option.get_attribute(\"value\"))\n",
    "    print(seasons)\n",
    "        \n",
    "    date = []\n",
    "    time = []\n",
    "    matchNos = []\n",
    "    matchStatus = []\n",
    "    teamA = []\n",
    "    teamB = []\n",
    "    teamAScore = []\n",
    "    teamBScore = []\n",
    "    \n",
    "    for month in months:\n",
    "        element_season.select_by_visible_text(month)\n",
    "        time.sleep(2)\n",
    "\n",
    "        schedule_doc = soup.find(class_=\"mwl-partial-container\")\n",
    "        all_matches = schedule_doc.find_all(class_=\"si-fix-box\")\n",
    "\n",
    "\n",
    "        for match in all_matches:\n",
    "            date.append(match.find(class_=\"si-fix-box-top-flexBox si-flexBox\").find(class_=\"matDate\").get_text().strip())\n",
    "            time.append(match.find(class_=\"si-fix-box-top-flexBox si-flexBox\").find(class_=\"matTime\").get_text().strip())\n",
    "            matchNos.append(match.find(class_=\"si-fix-box-top-flexBox si-flexBox\").find(class_=\"matStatus\").get_text().strip().split(\"-\")[0].strip())\n",
    "            print(match.find(class_=\"si-fix-box-top-flexBox si-flexBox\").find(class_=\"matStatus\").get_text().strip().split(\"-\")[0].strip())\n",
    "            matchStatus.append(match.find(class_=\"si-fix-box-top-flexBox si-flexBox\").find(class_=\"matStatus\").get_text().strip().split(\"-\")[1].strip())\n",
    "\n",
    "            if(match.find(class_=\"si-fix-box-top-flexBox si-flexBox\").find(class_=\"matStatus\").get_text().strip().split(\"-\")[1].strip() == 'Completed'):\n",
    "                print(match.find(class_=\"si-fix-box-flexBox si-flexBox\").find(class_=\"si-fix-box-col-mid\").find(class_=\"si-fix-top-cel teamsCel teamA\").find(class_=\"si-fullName\").get_text().strip())\n",
    "                teamAScore.append(match.find(class_=\"si-fix-box-flexBox si-flexBox\").find(class_=\"si-fix-box-col-mid\").find(class_=\"matScore\").find(class_=\" si-score won\").get_text().strip())\n",
    "                if(match.find(class_=\"mat-resultStatus\").get_text().strip().find(\"Beat\") != -1):\n",
    "                    teamBScore.append(match.find(class_=\"si-fix-box-flexBox si-flexBox\").find(class_=\"si-fix-box-col-mid\").find(class_=\"matScore\").find(class_=\" si-score \").get_text().strip())\n",
    "                else:\n",
    "                    teamBScore.append(match.find(class_=\"si-fix-box-flexBox si-flexBox\").find(class_=\"si-fix-box-col-mid\").find(class_=\"matScore\").find(class_=\" si-score won\").get_text().strip())\n",
    "                print(match.find(class_=\"si-fix-box-flexBox si-flexBox\").find(class_=\"si-fix-box-col-mid\").find(class_=\"si-fix-top-cel teamsCel teamB\").find(class_=\"si-fullName\").get_text().strip())\n",
    "            else:\n",
    "                teamAScore.append(\"0\")\n",
    "                teamBScore.append(\"0\")\n",
    "\n",
    "            if(match.find(class_=\"mat-resultStatus\").get_text().strip().find(\"Beat\") != -1):\n",
    "                teamA.append(match.find(class_=\"mat-resultStatus\").get_text().strip().split(\"Beat\")[0].strip())\n",
    "                teamB.append(match.find(class_=\"mat-resultStatus\").get_text().strip().split(\"Beat\")[1].strip().split(\"(\")[0].strip())\n",
    "            else:\n",
    "                teamA.append(match.find(class_=\"si-fix-box-flexBox si-flexBox\").find(class_=\"si-fix-box-col-mid\").find(class_=\"si-fix-top-cel teamsCel teamA\").find(class_=\"si-fullName\").get_text().strip())\n",
    "                teamB.append(match.find(class_=\"si-fix-box-flexBox si-flexBox\").find(class_=\"si-fix-box-col-mid\").find(class_=\"si-fix-top-cel teamsCel teamB\").find(class_=\"si-fullName\").get_text().strip())\n",
    "    \n",
    "    pd.DataFrame({'Date':date,'Time':time,'MatchNos':matchNos,'MatchStatus':matchStatus,'TeamA':teamA,'TeamB':teamB,'TeamAScore':teamAScore,'TeamBScore':teamBScore}).to_csv('Season7.csv',index=False)\n",
    "        \n",
    "        \n",
    "except:\n",
    "    print(traceback.format_exc())\n",
    "    driver.close()"
   ]
  },
  {
   "cell_type": "code",
   "execution_count": null,
   "metadata": {},
   "outputs": [],
   "source": []
  }
 ],
 "metadata": {
  "kernelspec": {
   "display_name": "Python 3",
   "language": "python",
   "name": "python3"
  },
  "language_info": {
   "codemirror_mode": {
    "name": "ipython",
    "version": 3
   },
   "file_extension": ".py",
   "mimetype": "text/x-python",
   "name": "python",
   "nbconvert_exporter": "python",
   "pygments_lexer": "ipython3",
   "version": "3.7.0"
  }
 },
 "nbformat": 4,
 "nbformat_minor": 2
}
